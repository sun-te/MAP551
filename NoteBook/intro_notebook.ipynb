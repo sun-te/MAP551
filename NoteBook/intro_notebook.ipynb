{
 "cells": [
  {
   "cell_type": "markdown",
   "metadata": {
    "slideshow": {
     "slide_type": "slide"
    }
   },
   "source": [
    "# Introduction à Jupyter Notebook"
   ]
  },
  {
   "cell_type": "markdown",
   "metadata": {
    "slideshow": {
     "slide_type": "subslide"
    }
   },
   "source": [
    "**Jupyter Notebook** est une application web permettant de réaliser des documents contenant  du texte formaté, des images, des vidéos... mais aussi une interface qui permet d'exécuter du code informatique (cf. http://jupyter.org/)."
   ]
  },
  {
   "cell_type": "markdown",
   "metadata": {
    "slideshow": {
     "slide_type": "subslide"
    }
   },
   "source": [
    "**Jupyter Notebook** constitue un excellent outil pour :\n",
    "* présenter des résultats de simulations numériques et leurs analyses;\n",
    "* présenter la theorie et l'implémentation d'un algorithme numérique;\n",
    "* ... "
   ]
  },
  {
   "cell_type": "markdown",
   "metadata": {
    "slideshow": {
     "slide_type": "subslide"
    }
   },
   "source": [
    "**Jupyter Notebook** est une application web serveur-client. Dans le contexte du cours, votre machine tiendra les rôles du client et du serveur mais on pourrait envisager d'utiliser un serveur distant et dans ce cas chaque exécution de code s'effectuerait sur une machine distante et s'afficherait sur votre machine."
   ]
  },
  {
   "cell_type": "markdown",
   "metadata": {
    "slideshow": {
     "slide_type": "subslide"
    }
   },
   "source": [
    "Un **Jupyter Notebook** consite en une succession de cellules de différents types : \n",
    "* des cellules \"markdown\" pour afficher du texte \n",
    "* des cellules \"code\" contenant du code qui peut être exécuté dans le notebook"
   ]
  },
  {
   "cell_type": "markdown",
   "metadata": {
    "slideshow": {
     "slide_type": "slide"
    }
   },
   "source": [
    "## Lancer le serveur \n",
    "\n",
    "Pour lancer le serveur, il suffit de taper dans un terminal ou de l'anaconda prompt (pour Windows) :\n",
    "```bash\n",
    "> jupyter notebook\n",
    "```"
   ]
  },
  {
   "cell_type": "markdown",
   "metadata": {
    "slideshow": {
     "slide_type": "slide"
    }
   },
   "source": [
    "## Les cellules markdown\n",
    "\n",
    "Pour écrire du texte formaté, il faut utiliser le langage **Markdown**. \n",
    "Ce langage permet notamment de :"
   ]
  },
  {
   "cell_type": "markdown",
   "metadata": {
    "slideshow": {
     "slide_type": "subslide"
    }
   },
   "source": [
    "* d'écrire des titres :\n",
    "  * # Titre\n",
    "  * ## Sous-titre\n",
    "  * ### Sous-sous-titre"
   ]
  },
  {
   "cell_type": "markdown",
   "metadata": {
    "slideshow": {
     "slide_type": "subslide"
    }
   },
   "source": [
    "* d'écrire des listes :\n",
    "  * Voici une liste :\n",
    "    * premier item\n",
    "    * deuxième item    \n",
    "    * troisième item"
   ]
  },
  {
   "cell_type": "markdown",
   "metadata": {
    "slideshow": {
     "slide_type": "subslide"
    }
   },
   "source": [
    "* d'écrire du texte en **gras**, en *italique*\n",
    "\n",
    "* d'écrire du code informatique avec coloration syntaxique :\n",
    "\n",
    "    Exemple en langage C\n",
    "\n",
    "```c\n",
    "    int main()\n",
    "    { \n",
    "      printf(\"Hello world!\\n\");\n",
    "      return 0;\n",
    "    }\n",
    "```    \n",
    "\n",
    "*    Exemple en langage python\n",
    "    \n",
    "```python\n",
    "    import pandas as pd\n",
    "    print(\"hello world\")\n",
    "```\n",
    "\n",
    "\n",
    "* ..."
   ]
  },
  {
   "cell_type": "markdown",
   "metadata": {
    "slideshow": {
     "slide_type": "subslide"
    }
   },
   "source": [
    "Les cellules markdown permettent d'écrire également du latex pour insérer des équations :\n",
    "\n",
    "$$\n",
    "\\left\\{\\begin{aligned}\n",
    "\\frac{d \\theta}{d \\tau} & = e^\\theta - \\alpha_0 \\, (1 + \\mu \\, \\psi^2) \\, \\theta\\\\\n",
    "\\frac{d \\psi}{d \\tau} & = -a \\, \\psi (\\psi^2 + \\theta_c - \\theta)\n",
    "\\end{aligned}\\right.\n",
    "$$"
   ]
  },
  {
   "cell_type": "markdown",
   "metadata": {
    "slideshow": {
     "slide_type": "slide"
    }
   },
   "source": [
    "## Les cellules Code"
   ]
  },
  {
   "cell_type": "markdown",
   "metadata": {},
   "source": [
    "### Le *kernel* Python"
   ]
  },
  {
   "cell_type": "markdown",
   "metadata": {
    "slideshow": {
     "slide_type": "fragment"
    }
   },
   "source": [
    "Par défaut, lorsque l'on lance un serveur **Jupyter Notebook**, un interpréteur Python (ou *kernel* Python) a été lancé et attend qu'on lui transmette des instructions."
   ]
  },
  {
   "cell_type": "code",
   "execution_count": 1,
   "metadata": {
    "collapsed": true,
    "slideshow": {
     "slide_type": "subslide"
    }
   },
   "outputs": [],
   "source": [
    "a = 3"
   ]
  },
  {
   "cell_type": "markdown",
   "metadata": {
    "slideshow": {
     "slide_type": "fragment"
    }
   },
   "source": [
    "La valeur des variables est conservée d'une cellule à l'autre."
   ]
  },
  {
   "cell_type": "code",
   "execution_count": 2,
   "metadata": {
    "slideshow": {
     "slide_type": "fragment"
    }
   },
   "outputs": [
    {
     "name": "stdout",
     "output_type": "stream",
     "text": [
      "3\n"
     ]
    }
   ],
   "source": [
    "print(a)"
   ]
  },
  {
   "cell_type": "markdown",
   "metadata": {
    "slideshow": {
     "slide_type": "slide"
    }
   },
   "source": [
    "Il est possible d'utiliser l'ensemble des modules disponibles pour Python :"
   ]
  },
  {
   "cell_type": "code",
   "execution_count": 3,
   "metadata": {
    "scrolled": true,
    "slideshow": {
     "slide_type": "fragment"
    }
   },
   "outputs": [
    {
     "data": {
      "application/javascript": [
       "\n",
       "(function(root) {\n",
       "  function now() {\n",
       "    return new Date();\n",
       "  }\n",
       "\n",
       "  var force = true;\n",
       "\n",
       "  if (typeof (root._bokeh_onload_callbacks) === \"undefined\" || force === true) {\n",
       "    root._bokeh_onload_callbacks = [];\n",
       "    root._bokeh_is_loading = undefined;\n",
       "  }\n",
       "\n",
       "  var JS_MIME_TYPE = 'application/javascript';\n",
       "  var HTML_MIME_TYPE = 'text/html';\n",
       "  var EXEC_MIME_TYPE = 'application/vnd.bokehjs_exec.v0+json';\n",
       "  var CLASS_NAME = 'output_bokeh rendered_html';\n",
       "\n",
       "  /**\n",
       "   * Render data to the DOM node\n",
       "   */\n",
       "  function render(props, node) {\n",
       "    var script = document.createElement(\"script\");\n",
       "    node.appendChild(script);\n",
       "  }\n",
       "\n",
       "  /**\n",
       "   * Handle when an output is cleared or removed\n",
       "   */\n",
       "  function handleClearOutput(event, handle) {\n",
       "    var cell = handle.cell;\n",
       "\n",
       "    var id = cell.output_area._bokeh_element_id;\n",
       "    var server_id = cell.output_area._bokeh_server_id;\n",
       "    // Clean up Bokeh references\n",
       "    if (id != null && id in Bokeh.index) {\n",
       "      Bokeh.index[id].model.document.clear();\n",
       "      delete Bokeh.index[id];\n",
       "    }\n",
       "\n",
       "    if (server_id !== undefined) {\n",
       "      // Clean up Bokeh references\n",
       "      var cmd = \"from bokeh.io.state import curstate; print(curstate().uuid_to_server['\" + server_id + \"'].get_sessions()[0].document.roots[0]._id)\";\n",
       "      cell.notebook.kernel.execute(cmd, {\n",
       "        iopub: {\n",
       "          output: function(msg) {\n",
       "            var id = msg.content.text.trim();\n",
       "            if (id in Bokeh.index) {\n",
       "              Bokeh.index[id].model.document.clear();\n",
       "              delete Bokeh.index[id];\n",
       "            }\n",
       "          }\n",
       "        }\n",
       "      });\n",
       "      // Destroy server and session\n",
       "      var cmd = \"import bokeh.io.notebook as ion; ion.destroy_server('\" + server_id + \"')\";\n",
       "      cell.notebook.kernel.execute(cmd);\n",
       "    }\n",
       "  }\n",
       "\n",
       "  /**\n",
       "   * Handle when a new output is added\n",
       "   */\n",
       "  function handleAddOutput(event, handle) {\n",
       "    var output_area = handle.output_area;\n",
       "    var output = handle.output;\n",
       "\n",
       "    // limit handleAddOutput to display_data with EXEC_MIME_TYPE content only\n",
       "    if ((output.output_type != \"display_data\") || (!output.data.hasOwnProperty(EXEC_MIME_TYPE))) {\n",
       "      return\n",
       "    }\n",
       "\n",
       "    var toinsert = output_area.element.find(\".\" + CLASS_NAME.split(' ')[0]);\n",
       "\n",
       "    if (output.metadata[EXEC_MIME_TYPE][\"id\"] !== undefined) {\n",
       "      toinsert[toinsert.length - 1].firstChild.textContent = output.data[JS_MIME_TYPE];\n",
       "      // store reference to embed id on output_area\n",
       "      output_area._bokeh_element_id = output.metadata[EXEC_MIME_TYPE][\"id\"];\n",
       "    }\n",
       "    if (output.metadata[EXEC_MIME_TYPE][\"server_id\"] !== undefined) {\n",
       "      var bk_div = document.createElement(\"div\");\n",
       "      bk_div.innerHTML = output.data[HTML_MIME_TYPE];\n",
       "      var script_attrs = bk_div.children[0].attributes;\n",
       "      for (var i = 0; i < script_attrs.length; i++) {\n",
       "        toinsert[toinsert.length - 1].firstChild.setAttribute(script_attrs[i].name, script_attrs[i].value);\n",
       "      }\n",
       "      // store reference to server id on output_area\n",
       "      output_area._bokeh_server_id = output.metadata[EXEC_MIME_TYPE][\"server_id\"];\n",
       "    }\n",
       "  }\n",
       "\n",
       "  function register_renderer(events, OutputArea) {\n",
       "\n",
       "    function append_mime(data, metadata, element) {\n",
       "      // create a DOM node to render to\n",
       "      var toinsert = this.create_output_subarea(\n",
       "        metadata,\n",
       "        CLASS_NAME,\n",
       "        EXEC_MIME_TYPE\n",
       "      );\n",
       "      this.keyboard_manager.register_events(toinsert);\n",
       "      // Render to node\n",
       "      var props = {data: data, metadata: metadata[EXEC_MIME_TYPE]};\n",
       "      render(props, toinsert[toinsert.length - 1]);\n",
       "      element.append(toinsert);\n",
       "      return toinsert\n",
       "    }\n",
       "\n",
       "    /* Handle when an output is cleared or removed */\n",
       "    events.on('clear_output.CodeCell', handleClearOutput);\n",
       "    events.on('delete.Cell', handleClearOutput);\n",
       "\n",
       "    /* Handle when a new output is added */\n",
       "    events.on('output_added.OutputArea', handleAddOutput);\n",
       "\n",
       "    /**\n",
       "     * Register the mime type and append_mime function with output_area\n",
       "     */\n",
       "    OutputArea.prototype.register_mime_type(EXEC_MIME_TYPE, append_mime, {\n",
       "      /* Is output safe? */\n",
       "      safe: true,\n",
       "      /* Index of renderer in `output_area.display_order` */\n",
       "      index: 0\n",
       "    });\n",
       "  }\n",
       "\n",
       "  // register the mime type if in Jupyter Notebook environment and previously unregistered\n",
       "  if (root.Jupyter !== undefined) {\n",
       "    var events = require('base/js/events');\n",
       "    var OutputArea = require('notebook/js/outputarea').OutputArea;\n",
       "\n",
       "    if (OutputArea.prototype.mime_types().indexOf(EXEC_MIME_TYPE) == -1) {\n",
       "      register_renderer(events, OutputArea);\n",
       "    }\n",
       "  }\n",
       "\n",
       "  \n",
       "  if (typeof (root._bokeh_timeout) === \"undefined\" || force === true) {\n",
       "    root._bokeh_timeout = Date.now() + 5000;\n",
       "    root._bokeh_failed_load = false;\n",
       "  }\n",
       "\n",
       "  var NB_LOAD_WARNING = {'data': {'text/html':\n",
       "     \"<div style='background-color: #fdd'>\\n\"+\n",
       "     \"<p>\\n\"+\n",
       "     \"BokehJS does not appear to have successfully loaded. If loading BokehJS from CDN, this \\n\"+\n",
       "     \"may be due to a slow or bad network connection. Possible fixes:\\n\"+\n",
       "     \"</p>\\n\"+\n",
       "     \"<ul>\\n\"+\n",
       "     \"<li>re-rerun `output_notebook()` to attempt to load from CDN again, or</li>\\n\"+\n",
       "     \"<li>use INLINE resources instead, as so:</li>\\n\"+\n",
       "     \"</ul>\\n\"+\n",
       "     \"<code>\\n\"+\n",
       "     \"from bokeh.resources import INLINE\\n\"+\n",
       "     \"output_notebook(resources=INLINE)\\n\"+\n",
       "     \"</code>\\n\"+\n",
       "     \"</div>\"}};\n",
       "\n",
       "  function display_loaded() {\n",
       "    var el = document.getElementById(null);\n",
       "    if (el != null) {\n",
       "      el.textContent = \"BokehJS is loading...\";\n",
       "    }\n",
       "    if (root.Bokeh !== undefined) {\n",
       "      if (el != null) {\n",
       "        el.textContent = \"BokehJS \" + root.Bokeh.version + \" successfully loaded.\";\n",
       "      }\n",
       "    } else if (Date.now() < root._bokeh_timeout) {\n",
       "      setTimeout(display_loaded, 100)\n",
       "    }\n",
       "  }\n",
       "\n",
       "\n",
       "  function run_callbacks() {\n",
       "    try {\n",
       "      root._bokeh_onload_callbacks.forEach(function(callback) { callback() });\n",
       "    }\n",
       "    finally {\n",
       "      delete root._bokeh_onload_callbacks\n",
       "    }\n",
       "    console.info(\"Bokeh: all callbacks have finished\");\n",
       "  }\n",
       "\n",
       "  function load_libs(js_urls, callback) {\n",
       "    root._bokeh_onload_callbacks.push(callback);\n",
       "    if (root._bokeh_is_loading > 0) {\n",
       "      console.log(\"Bokeh: BokehJS is being loaded, scheduling callback at\", now());\n",
       "      return null;\n",
       "    }\n",
       "    if (js_urls == null || js_urls.length === 0) {\n",
       "      run_callbacks();\n",
       "      return null;\n",
       "    }\n",
       "    console.log(\"Bokeh: BokehJS not loaded, scheduling load and callback at\", now());\n",
       "    root._bokeh_is_loading = js_urls.length;\n",
       "    for (var i = 0; i < js_urls.length; i++) {\n",
       "      var url = js_urls[i];\n",
       "      var s = document.createElement('script');\n",
       "      s.src = url;\n",
       "      s.async = false;\n",
       "      s.onreadystatechange = s.onload = function() {\n",
       "        root._bokeh_is_loading--;\n",
       "        if (root._bokeh_is_loading === 0) {\n",
       "          console.log(\"Bokeh: all BokehJS libraries loaded\");\n",
       "          run_callbacks()\n",
       "        }\n",
       "      };\n",
       "      s.onerror = function() {\n",
       "        console.warn(\"failed to load library \" + url);\n",
       "      };\n",
       "      console.log(\"Bokeh: injecting script tag for BokehJS library: \", url);\n",
       "      document.getElementsByTagName(\"head\")[0].appendChild(s);\n",
       "    }\n",
       "  };\n",
       "\n",
       "  var js_urls = [\"https://cdn.pydata.org/bokeh/release/bokeh-0.13.0.min.js\", \"https://cdn.pydata.org/bokeh/release/bokeh-widgets-0.13.0.min.js\", \"https://cdn.pydata.org/bokeh/release/bokeh-tables-0.13.0.min.js\", \"https://cdn.pydata.org/bokeh/release/bokeh-gl-0.13.0.min.js\"];\n",
       "\n",
       "  var inline_js = [\n",
       "    function(Bokeh) {\n",
       "      Bokeh.set_log_level(\"info\");\n",
       "    },\n",
       "    \n",
       "    function(Bokeh) {\n",
       "      \n",
       "    },\n",
       "    function(Bokeh) {\n",
       "      console.log(\"Bokeh: injecting CSS: https://cdn.pydata.org/bokeh/release/bokeh-0.13.0.min.css\");\n",
       "      Bokeh.embed.inject_css(\"https://cdn.pydata.org/bokeh/release/bokeh-0.13.0.min.css\");\n",
       "      console.log(\"Bokeh: injecting CSS: https://cdn.pydata.org/bokeh/release/bokeh-widgets-0.13.0.min.css\");\n",
       "      Bokeh.embed.inject_css(\"https://cdn.pydata.org/bokeh/release/bokeh-widgets-0.13.0.min.css\");\n",
       "      console.log(\"Bokeh: injecting CSS: https://cdn.pydata.org/bokeh/release/bokeh-tables-0.13.0.min.css\");\n",
       "      Bokeh.embed.inject_css(\"https://cdn.pydata.org/bokeh/release/bokeh-tables-0.13.0.min.css\");\n",
       "    }\n",
       "  ];\n",
       "\n",
       "  function run_inline_js() {\n",
       "    \n",
       "    if ((root.Bokeh !== undefined) || (force === true)) {\n",
       "      for (var i = 0; i < inline_js.length; i++) {\n",
       "        inline_js[i].call(root, root.Bokeh);\n",
       "      }} else if (Date.now() < root._bokeh_timeout) {\n",
       "      setTimeout(run_inline_js, 100);\n",
       "    } else if (!root._bokeh_failed_load) {\n",
       "      console.log(\"Bokeh: BokehJS failed to load within specified timeout.\");\n",
       "      root._bokeh_failed_load = true;\n",
       "    } else if (force !== true) {\n",
       "      var cell = $(document.getElementById(null)).parents('.cell').data().cell;\n",
       "      cell.output_area.append_execute_result(NB_LOAD_WARNING)\n",
       "    }\n",
       "\n",
       "  }\n",
       "\n",
       "  if (root._bokeh_is_loading === 0) {\n",
       "    console.log(\"Bokeh: BokehJS loaded, going straight to plotting\");\n",
       "    run_inline_js();\n",
       "  } else {\n",
       "    load_libs(js_urls, function() {\n",
       "      console.log(\"Bokeh: BokehJS plotting callback run at\", now());\n",
       "      run_inline_js();\n",
       "    });\n",
       "  }\n",
       "}(window));"
      ],
      "application/vnd.bokehjs_load.v0+json": "\n(function(root) {\n  function now() {\n    return new Date();\n  }\n\n  var force = true;\n\n  if (typeof (root._bokeh_onload_callbacks) === \"undefined\" || force === true) {\n    root._bokeh_onload_callbacks = [];\n    root._bokeh_is_loading = undefined;\n  }\n\n  \n\n  \n  if (typeof (root._bokeh_timeout) === \"undefined\" || force === true) {\n    root._bokeh_timeout = Date.now() + 5000;\n    root._bokeh_failed_load = false;\n  }\n\n  var NB_LOAD_WARNING = {'data': {'text/html':\n     \"<div style='background-color: #fdd'>\\n\"+\n     \"<p>\\n\"+\n     \"BokehJS does not appear to have successfully loaded. If loading BokehJS from CDN, this \\n\"+\n     \"may be due to a slow or bad network connection. Possible fixes:\\n\"+\n     \"</p>\\n\"+\n     \"<ul>\\n\"+\n     \"<li>re-rerun `output_notebook()` to attempt to load from CDN again, or</li>\\n\"+\n     \"<li>use INLINE resources instead, as so:</li>\\n\"+\n     \"</ul>\\n\"+\n     \"<code>\\n\"+\n     \"from bokeh.resources import INLINE\\n\"+\n     \"output_notebook(resources=INLINE)\\n\"+\n     \"</code>\\n\"+\n     \"</div>\"}};\n\n  function display_loaded() {\n    var el = document.getElementById(null);\n    if (el != null) {\n      el.textContent = \"BokehJS is loading...\";\n    }\n    if (root.Bokeh !== undefined) {\n      if (el != null) {\n        el.textContent = \"BokehJS \" + root.Bokeh.version + \" successfully loaded.\";\n      }\n    } else if (Date.now() < root._bokeh_timeout) {\n      setTimeout(display_loaded, 100)\n    }\n  }\n\n\n  function run_callbacks() {\n    try {\n      root._bokeh_onload_callbacks.forEach(function(callback) { callback() });\n    }\n    finally {\n      delete root._bokeh_onload_callbacks\n    }\n    console.info(\"Bokeh: all callbacks have finished\");\n  }\n\n  function load_libs(js_urls, callback) {\n    root._bokeh_onload_callbacks.push(callback);\n    if (root._bokeh_is_loading > 0) {\n      console.log(\"Bokeh: BokehJS is being loaded, scheduling callback at\", now());\n      return null;\n    }\n    if (js_urls == null || js_urls.length === 0) {\n      run_callbacks();\n      return null;\n    }\n    console.log(\"Bokeh: BokehJS not loaded, scheduling load and callback at\", now());\n    root._bokeh_is_loading = js_urls.length;\n    for (var i = 0; i < js_urls.length; i++) {\n      var url = js_urls[i];\n      var s = document.createElement('script');\n      s.src = url;\n      s.async = false;\n      s.onreadystatechange = s.onload = function() {\n        root._bokeh_is_loading--;\n        if (root._bokeh_is_loading === 0) {\n          console.log(\"Bokeh: all BokehJS libraries loaded\");\n          run_callbacks()\n        }\n      };\n      s.onerror = function() {\n        console.warn(\"failed to load library \" + url);\n      };\n      console.log(\"Bokeh: injecting script tag for BokehJS library: \", url);\n      document.getElementsByTagName(\"head\")[0].appendChild(s);\n    }\n  };\n\n  var js_urls = [\"https://cdn.pydata.org/bokeh/release/bokeh-0.13.0.min.js\", \"https://cdn.pydata.org/bokeh/release/bokeh-widgets-0.13.0.min.js\", \"https://cdn.pydata.org/bokeh/release/bokeh-tables-0.13.0.min.js\", \"https://cdn.pydata.org/bokeh/release/bokeh-gl-0.13.0.min.js\"];\n\n  var inline_js = [\n    function(Bokeh) {\n      Bokeh.set_log_level(\"info\");\n    },\n    \n    function(Bokeh) {\n      \n    },\n    function(Bokeh) {\n      console.log(\"Bokeh: injecting CSS: https://cdn.pydata.org/bokeh/release/bokeh-0.13.0.min.css\");\n      Bokeh.embed.inject_css(\"https://cdn.pydata.org/bokeh/release/bokeh-0.13.0.min.css\");\n      console.log(\"Bokeh: injecting CSS: https://cdn.pydata.org/bokeh/release/bokeh-widgets-0.13.0.min.css\");\n      Bokeh.embed.inject_css(\"https://cdn.pydata.org/bokeh/release/bokeh-widgets-0.13.0.min.css\");\n      console.log(\"Bokeh: injecting CSS: https://cdn.pydata.org/bokeh/release/bokeh-tables-0.13.0.min.css\");\n      Bokeh.embed.inject_css(\"https://cdn.pydata.org/bokeh/release/bokeh-tables-0.13.0.min.css\");\n    }\n  ];\n\n  function run_inline_js() {\n    \n    if ((root.Bokeh !== undefined) || (force === true)) {\n      for (var i = 0; i < inline_js.length; i++) {\n        inline_js[i].call(root, root.Bokeh);\n      }} else if (Date.now() < root._bokeh_timeout) {\n      setTimeout(run_inline_js, 100);\n    } else if (!root._bokeh_failed_load) {\n      console.log(\"Bokeh: BokehJS failed to load within specified timeout.\");\n      root._bokeh_failed_load = true;\n    } else if (force !== true) {\n      var cell = $(document.getElementById(null)).parents('.cell').data().cell;\n      cell.output_area.append_execute_result(NB_LOAD_WARNING)\n    }\n\n  }\n\n  if (root._bokeh_is_loading === 0) {\n    console.log(\"Bokeh: BokehJS loaded, going straight to plotting\");\n    run_inline_js();\n  } else {\n    load_libs(js_urls, function() {\n      console.log(\"Bokeh: BokehJS plotting callback run at\", now());\n      run_inline_js();\n    });\n  }\n}(window));"
     },
     "metadata": {},
     "output_type": "display_data"
    },
    {
     "data": {
      "text/html": [
       "\n",
       "\n",
       "\n",
       "\n",
       "\n",
       "\n",
       "  <div class=\"bk-root\" id=\"25c002d9-9397-4737-95fb-e4b361c0bf3c\"></div>\n"
      ]
     },
     "metadata": {},
     "output_type": "display_data"
    },
    {
     "data": {
      "application/javascript": [
       "(function(root) {\n",
       "  function embed_document(root) {\n",
       "    \n",
       "  var docs_json = {\"c4c9e3c3-aa8d-47ff-8b2b-ca5635323924\":{\"roots\":{\"references\":[{\"attributes\":{\"formatter\":{\"id\":\"4a0328e5-f032-43ad-adba-5ad9f88b2f41\",\"type\":\"BasicTickFormatter\"},\"plot\":{\"id\":\"13ddc666-d664-4fb3-8176-392a6af6e223\",\"subtype\":\"Figure\",\"type\":\"Plot\"},\"ticker\":{\"id\":\"1ec443d5-3769-47e5-8fcc-14afffbf60b5\",\"type\":\"BasicTicker\"}},\"id\":\"3dc1c498-4614-4252-add0-c87d5eb3b17f\",\"type\":\"LinearAxis\"},{\"attributes\":{\"source\":{\"id\":\"d24dd54a-48f4-4f3e-a3a2-d9f8dd6a6439\",\"type\":\"ColumnDataSource\"}},\"id\":\"b24a0681-6589-4cda-be49-03e6a988fe10\",\"type\":\"CDSView\"},{\"attributes\":{},\"id\":\"1ec443d5-3769-47e5-8fcc-14afffbf60b5\",\"type\":\"BasicTicker\"},{\"attributes\":{\"plot\":{\"id\":\"13ddc666-d664-4fb3-8176-392a6af6e223\",\"subtype\":\"Figure\",\"type\":\"Plot\"},\"ticker\":{\"id\":\"1ec443d5-3769-47e5-8fcc-14afffbf60b5\",\"type\":\"BasicTicker\"}},\"id\":\"8cfa802a-2189-4c46-aeee-2eab0923ae6f\",\"type\":\"Grid\"},{\"attributes\":{},\"id\":\"4a0328e5-f032-43ad-adba-5ad9f88b2f41\",\"type\":\"BasicTickFormatter\"},{\"attributes\":{},\"id\":\"a2afeeb5-f631-472e-b323-9be5c8245a31\",\"type\":\"BasicTickFormatter\"},{\"attributes\":{\"line_color\":\"#1f77b4\",\"x\":{\"field\":\"x\"},\"y\":{\"field\":\"y\"}},\"id\":\"4741cef9-934e-4260-83c5-5f3057a54841\",\"type\":\"Line\"},{\"attributes\":{},\"id\":\"fb71d421-8007-4d12-bdc0-117676a6f4c0\",\"type\":\"UnionRenderers\"},{\"attributes\":{},\"id\":\"82a72100-6c48-474c-81f4-0f43383be2c0\",\"type\":\"BasicTicker\"},{\"attributes\":{\"active_drag\":\"auto\",\"active_inspect\":\"auto\",\"active_multi\":null,\"active_scroll\":\"auto\",\"active_tap\":\"auto\",\"tools\":[{\"id\":\"a7b60226-77a6-4ef1-9871-2a97dd78e4c0\",\"type\":\"PanTool\"},{\"id\":\"e4a801b2-a8e2-4842-b2ab-b9190a9104f6\",\"type\":\"WheelZoomTool\"},{\"id\":\"e6989fbb-1243-47e0-a878-ac8bf3668d82\",\"type\":\"BoxZoomTool\"},{\"id\":\"a71d9de1-6e7c-4fcc-82c3-8ce62cc59f6c\",\"type\":\"SaveTool\"},{\"id\":\"09adf6f2-a491-43cf-95d3-e3b9e4a41f1e\",\"type\":\"ResetTool\"},{\"id\":\"36204e34-af7c-4804-8872-4f297a64b09d\",\"type\":\"HelpTool\"}]},\"id\":\"c30e8f10-a0f5-4ef4-9b6b-9f357adad354\",\"type\":\"Toolbar\"},{\"attributes\":{\"dimension\":1,\"plot\":{\"id\":\"13ddc666-d664-4fb3-8176-392a6af6e223\",\"subtype\":\"Figure\",\"type\":\"Plot\"},\"ticker\":{\"id\":\"82a72100-6c48-474c-81f4-0f43383be2c0\",\"type\":\"BasicTicker\"}},\"id\":\"1277478a-fa5e-427d-a650-d8ceaceb6530\",\"type\":\"Grid\"},{\"attributes\":{\"bottom_units\":\"screen\",\"fill_alpha\":{\"value\":0.5},\"fill_color\":{\"value\":\"lightgrey\"},\"left_units\":\"screen\",\"level\":\"overlay\",\"line_alpha\":{\"value\":1.0},\"line_color\":{\"value\":\"black\"},\"line_dash\":[4,4],\"line_width\":{\"value\":2},\"plot\":null,\"render_mode\":\"css\",\"right_units\":\"screen\",\"top_units\":\"screen\"},\"id\":\"2bb93015-41a1-457f-9180-cce950468e74\",\"type\":\"BoxAnnotation\"},{\"attributes\":{\"callback\":null,\"data\":{\"x\":{\"__ndarray__\":\"AAAAAAAAAABbv1Kg1q+EP1u/UqDWr5Q/CB988MEHnz9bv1Kg1q+kPzJvZ0jM26k/CB988MEHrz9wZ0jM2xmyP1u/UqDWr7Q/RhdddNFFtz8yb2dIzNu5Px3HcRzHcbw/CB988MEHvz96O0Ni3s7AP3BnSMzbGcI/ZZNNNtlkwz9bv1Kg1q/EP1HrVwrU+sU/RhdddNFFxz88Q2LezpDIPzJvZ0jM28k/J5tssskmyz8dx3Ecx3HMPxPzdobEvM0/CB988MEHzz9/pUCtXynQP3o7Q2LeztA/ddFFF1100T9wZ0jM2xnSP2r9SoFav9I/ZZNNNtlk0z9gKVDrVwrUP1u/UqDWr9Q/VlVVVVVV1T9R61cK1PrVP0yBWr9SoNY/RhdddNFF1z9BrV8pUOvXPzxDYt7OkNg/N9lkk0022T8yb2dIzNvZPy0Fav1Kgdo/J5tssskm2z8iMW9nSMzbPx3HcRzHcdw/GF100UUX3T8T83aGxLzdPw6JeTtDYt4/CB988MEH3z8DtX6lQK3fP3+lQK1fKeA/ffDBBx984D96O0Ni3s7gP3eGxLydIeE/ddFFF1104T9yHMdxHMfhP3BnSMzbGeI/bbLJJpts4j9q/UqBWr/iP2hIzNsZEuM/ZZNNNtlk4z9j3s6QmLfjP2ApUOtXCuQ/XnTRRRdd5D9bv1Kg1q/kP1gK1PqVAuU/VlVVVVVV5T9ToNavFKjlP1HrVwrU+uU/TjbZZJNN5j9MgVq/UqDmP0nM2xkS8+Y/RhdddNFF5z9EYt7OkJjnP0GtXylQ6+c/P/jggw8+6D88Q2LezpDoPzmO4ziO4+g/N9lkk0026T80JObtDInpPzJvZ0jM2+k/L7rooosu6j8tBWr9SoHqPypQ61cK1Oo/J5tssskm6z8l5u0MiXnrPyIxb2dIzOs/IHzwwQcf7D8dx3Ecx3HsPxsS83aGxOw/GF100UUX7T8VqPUrBWrtPxPzdobEvO0/ED744IMP7j8OiXk7Q2LuPwvU+pUCte4/CB988MEH7z8Gav1KgVrvPwO1fqVAre8/AAAAAAAA8D8=\",\"dtype\":\"float64\",\"shape\":[100]},\"y\":{\"__ndarray__\":\"AAAAAAAAAAADhrXMjDywP/CDAnguNMA/kKyggGI5yD+aiNkBzxLQP9ofIiFb+NM/+pMNU1HJ1z+DQNqEwoHbPxlNPurYHd8/C1i7+O1M4T9HhZoMGvniPx0WPFK3keQ//xc/lCAV5j+GGZN4xoHnP4lAIRwx1ug/lkFFlgER6j93zoZi8zDrPzOcHq/dNOw/EyzujrQb7T/B8a4NiuTtP/4jPCWPju4/3176khQZ7z8YHIGMi4PvPzTGy1KGze8/g6xao7j27z/vOc8G+P7vP2Zmsvw75u8/70I4BJ6s7z++l/eBWVLvPwSssILL1+4/xVNiW3I97j+TIxAn7YPtP1EHwCL7q+w/qkxY6Hq26z+OVimJaaTqP5aCD4nhduk/oSg6uxkv6D+158MBZM7mP9KHZvErVuU/8nixWvXH4z8iRkW6WiXiP2ITsJELcOA/8qg+VZVT3T/agWKM2KjZP/ELinSo49U/v412/ecH0j/VKaSyIjPMP9bENsZjOcQ//FNHxZdVuD+s23zJpD6gP8nbfMmkPqC/ClRHxZdVuL/txDbGYznEv9wppLIiM8y/wo12/ecH0r/0C4p0qOPVv+WBYozYqNm/9ag+VZVT3b9gE7CRC3DgvydGRbpaJeK/83ixWvXH47/Uh2bxK1blv7fnwwFkzua/pSg6uxkv6L+Xgg+J4Xbpv5BWKYlppOq/rExY6Hq2679SB8Ai+6vsv5YjECftg+2/xFNiW3I97r8ErLCCy9fuv7+X94FZUu+/70I4BJ6s779mZrL8O+bvv+85zwb4/u+/g6xao7j27780xstShs3vvxgcgYyLg++/3176khQZ77/9Izwlj47uv7/xrg2K5O2/EizujrQb7b8xnB6v3TTsv3fOhmLzMOu/l0FFlgER6r+GQCEcMdbov4QZk3jGgee/+hc/lCAV5r8ZFjxSt5Hkv0SFmgwa+eK/Cli7+O1M4b8bTT7q2B3fv3lA2oTCgdu/9ZMNU1HJ17/KHyIhW/jTv52I2QHPEtC/oKyggGI5yL/ogwJ4LjTAvwSGtcyMPLC/B1wUMyamsbw=\",\"dtype\":\"float64\",\"shape\":[100]}},\"selected\":{\"id\":\"bcad9343-9463-4f97-9f8b-f57c6bf2d170\",\"type\":\"Selection\"},\"selection_policy\":{\"id\":\"fb71d421-8007-4d12-bdc0-117676a6f4c0\",\"type\":\"UnionRenderers\"}},\"id\":\"d24dd54a-48f4-4f3e-a3a2-d9f8dd6a6439\",\"type\":\"ColumnDataSource\"},{\"attributes\":{\"data_source\":{\"id\":\"d24dd54a-48f4-4f3e-a3a2-d9f8dd6a6439\",\"type\":\"ColumnDataSource\"},\"glyph\":{\"id\":\"4741cef9-934e-4260-83c5-5f3057a54841\",\"type\":\"Line\"},\"hover_glyph\":null,\"muted_glyph\":null,\"nonselection_glyph\":{\"id\":\"cfab04ec-8be0-4061-b0a7-fc7fa2034d31\",\"type\":\"Line\"},\"selection_glyph\":null,\"view\":{\"id\":\"b24a0681-6589-4cda-be49-03e6a988fe10\",\"type\":\"CDSView\"}},\"id\":\"28589c6f-5647-4457-a2ae-e87d1d741321\",\"type\":\"GlyphRenderer\"},{\"attributes\":{\"plot\":null,\"text\":\"\"},\"id\":\"edd5af84-0b39-4507-a63e-1735854afd75\",\"type\":\"Title\"},{\"attributes\":{},\"id\":\"a7b60226-77a6-4ef1-9871-2a97dd78e4c0\",\"type\":\"PanTool\"},{\"attributes\":{\"callback\":null},\"id\":\"a4fc0c4b-18d8-48a7-9899-c00d3c8c660d\",\"type\":\"Range1d\"},{\"attributes\":{\"line_alpha\":0.1,\"line_color\":\"#1f77b4\",\"x\":{\"field\":\"x\"},\"y\":{\"field\":\"y\"}},\"id\":\"cfab04ec-8be0-4061-b0a7-fc7fa2034d31\",\"type\":\"Line\"},{\"attributes\":{},\"id\":\"e4a801b2-a8e2-4842-b2ab-b9190a9104f6\",\"type\":\"WheelZoomTool\"},{\"attributes\":{\"overlay\":{\"id\":\"2bb93015-41a1-457f-9180-cce950468e74\",\"type\":\"BoxAnnotation\"}},\"id\":\"e6989fbb-1243-47e0-a878-ac8bf3668d82\",\"type\":\"BoxZoomTool\"},{\"attributes\":{\"callback\":null,\"start\":-1.0},\"id\":\"f46c8f7a-5210-4c09-9547-142c04a41241\",\"type\":\"Range1d\"},{\"attributes\":{\"below\":[{\"id\":\"3dc1c498-4614-4252-add0-c87d5eb3b17f\",\"type\":\"LinearAxis\"}],\"left\":[{\"id\":\"245accea-6812-4a87-a1d5-ea4aa89fd65b\",\"type\":\"LinearAxis\"}],\"plot_height\":500,\"plot_width\":980,\"renderers\":[{\"id\":\"3dc1c498-4614-4252-add0-c87d5eb3b17f\",\"type\":\"LinearAxis\"},{\"id\":\"8cfa802a-2189-4c46-aeee-2eab0923ae6f\",\"type\":\"Grid\"},{\"id\":\"245accea-6812-4a87-a1d5-ea4aa89fd65b\",\"type\":\"LinearAxis\"},{\"id\":\"1277478a-fa5e-427d-a650-d8ceaceb6530\",\"type\":\"Grid\"},{\"id\":\"2bb93015-41a1-457f-9180-cce950468e74\",\"type\":\"BoxAnnotation\"},{\"id\":\"28589c6f-5647-4457-a2ae-e87d1d741321\",\"type\":\"GlyphRenderer\"}],\"title\":{\"id\":\"edd5af84-0b39-4507-a63e-1735854afd75\",\"type\":\"Title\"},\"toolbar\":{\"id\":\"c30e8f10-a0f5-4ef4-9b6b-9f357adad354\",\"type\":\"Toolbar\"},\"x_range\":{\"id\":\"a4fc0c4b-18d8-48a7-9899-c00d3c8c660d\",\"type\":\"Range1d\"},\"x_scale\":{\"id\":\"898cf1a1-eb61-4487-897d-9824089fb041\",\"type\":\"LinearScale\"},\"y_range\":{\"id\":\"f46c8f7a-5210-4c09-9547-142c04a41241\",\"type\":\"Range1d\"},\"y_scale\":{\"id\":\"73091674-1e96-4df8-9960-d7e313af13d1\",\"type\":\"LinearScale\"}},\"id\":\"13ddc666-d664-4fb3-8176-392a6af6e223\",\"subtype\":\"Figure\",\"type\":\"Plot\"},{\"attributes\":{},\"id\":\"a71d9de1-6e7c-4fcc-82c3-8ce62cc59f6c\",\"type\":\"SaveTool\"},{\"attributes\":{},\"id\":\"898cf1a1-eb61-4487-897d-9824089fb041\",\"type\":\"LinearScale\"},{\"attributes\":{},\"id\":\"09adf6f2-a491-43cf-95d3-e3b9e4a41f1e\",\"type\":\"ResetTool\"},{\"attributes\":{},\"id\":\"73091674-1e96-4df8-9960-d7e313af13d1\",\"type\":\"LinearScale\"},{\"attributes\":{},\"id\":\"36204e34-af7c-4804-8872-4f297a64b09d\",\"type\":\"HelpTool\"},{\"attributes\":{\"formatter\":{\"id\":\"a2afeeb5-f631-472e-b323-9be5c8245a31\",\"type\":\"BasicTickFormatter\"},\"plot\":{\"id\":\"13ddc666-d664-4fb3-8176-392a6af6e223\",\"subtype\":\"Figure\",\"type\":\"Plot\"},\"ticker\":{\"id\":\"82a72100-6c48-474c-81f4-0f43383be2c0\",\"type\":\"BasicTicker\"}},\"id\":\"245accea-6812-4a87-a1d5-ea4aa89fd65b\",\"type\":\"LinearAxis\"},{\"attributes\":{},\"id\":\"bcad9343-9463-4f97-9f8b-f57c6bf2d170\",\"type\":\"Selection\"}],\"root_ids\":[\"13ddc666-d664-4fb3-8176-392a6af6e223\"]},\"title\":\"Bokeh Application\",\"version\":\"0.13.0\"}};\n",
       "  var render_items = [{\"docid\":\"c4c9e3c3-aa8d-47ff-8b2b-ca5635323924\",\"notebook_comms_target\":\"2989ce86-65d1-46b0-9bca-cc4cbb30463a\",\"roots\":{\"13ddc666-d664-4fb3-8176-392a6af6e223\":\"25c002d9-9397-4737-95fb-e4b361c0bf3c\"}}];\n",
       "  root.Bokeh.embed.embed_items_notebook(docs_json, render_items);\n",
       "\n",
       "  }\n",
       "  if (root.Bokeh !== undefined) {\n",
       "    embed_document(root);\n",
       "  } else {\n",
       "    var attempts = 0;\n",
       "    var timer = setInterval(function(root) {\n",
       "      if (root.Bokeh !== undefined) {\n",
       "        embed_document(root);\n",
       "        clearInterval(timer);\n",
       "      }\n",
       "      attempts++;\n",
       "      if (attempts > 100) {\n",
       "        console.log(\"Bokeh: ERROR: Unable to run BokehJS code because BokehJS library is missing\")\n",
       "        clearInterval(timer);\n",
       "      }\n",
       "    }, 10, root)\n",
       "  }\n",
       "})(window);"
      ],
      "application/vnd.bokehjs_exec.v0+json": ""
     },
     "metadata": {
      "application/vnd.bokehjs_exec.v0+json": {
       "id": "13ddc666-d664-4fb3-8176-392a6af6e223"
      }
     },
     "output_type": "display_data"
    },
    {
     "data": {
      "application/vnd.jupyter.widget-view+json": {
       "model_id": "b8543a64e95e4f3986ed54b7c6aabb51",
       "version_major": 2,
       "version_minor": 0
      },
      "text/plain": [
       "interactive(children=(FloatSlider(value=4.0, description='f', max=8.0, min=2.0, step=0.2), Output()), _dom_cla…"
      ]
     },
     "metadata": {},
     "output_type": "display_data"
    }
   ],
   "source": [
    "import numpy as np\n",
    "\n",
    "from ipywidgets import interact, widgets\n",
    "\n",
    "from bokeh.io import push_notebook, show, output_notebook\n",
    "from bokeh.plotting import figure\n",
    "\n",
    "output_notebook(hide_banner=True)\n",
    "\n",
    "x = np.linspace(0. , 1., 100)\n",
    "y = np.sin(2.*np.pi*x)\n",
    "\n",
    "fig = figure(x_range=(0.0, 1.0), y_range=(-1.0, 1.0), width=980, height=500)\n",
    "plt = fig.line(x, y)\n",
    "\n",
    "show(fig, notebook_handle=True)\n",
    "\n",
    "@interact(f=widgets.FloatSlider(value=4.0, min=2.0, max=8.0, step=0.2))\n",
    "def update(f) :\n",
    "    plt.data_source.data = dict(x=x, y=np.sin(f*np.pi*x))\n",
    "    notebook_handle=True\n",
    "    push_notebook()"
   ]
  },
  {
   "cell_type": "markdown",
   "metadata": {},
   "source": [
    "### Les autres *kernels*"
   ]
  },
  {
   "cell_type": "markdown",
   "metadata": {},
   "source": [
    "Il est possible d'installer d'autres \"kernels\" afin d'utiliser d'autres langages de programmation. La liste des *kernels* est disponible [ici](https://github.com/jupyter/jupyter/wiki/Jupyter-kernels). "
   ]
  },
  {
   "cell_type": "code",
   "execution_count": 49,
   "metadata": {
    "collapsed": true
   },
   "outputs": [],
   "source": [
    "a=\"hello world\""
   ]
  },
  {
   "cell_type": "code",
   "execution_count": 50,
   "metadata": {
    "collapsed": true
   },
   "outputs": [],
   "source": [
    "n=40"
   ]
  },
  {
   "cell_type": "code",
   "execution_count": 51,
   "metadata": {},
   "outputs": [],
   "source": [
    "def isSuShu(a):\n",
    "    if(a==2):\n",
    "        print(\"2 是质数\")\n",
    "        return True\n",
    "    for i in range(2,a):\n",
    "        #2,3,4....,a-1\n",
    "        if(a % i  ==0):\n",
    "            print(\"原来的数是\",a, \"但能被\",i,\"整除\")\n",
    "            return False\n",
    "    print(a,\"是质数\")\n",
    "    return True"
   ]
  },
  {
   "cell_type": "code",
   "execution_count": 52,
   "metadata": {},
   "outputs": [
    {
     "name": "stdout",
     "output_type": "stream",
     "text": [
      "原来的数是 117 但能被 3 整除\n"
     ]
    },
    {
     "data": {
      "text/plain": [
       "False"
      ]
     },
     "execution_count": 52,
     "metadata": {},
     "output_type": "execute_result"
    }
   ],
   "source": [
    "isSuShu(117)"
   ]
  },
  {
   "cell_type": "code",
   "execution_count": 53,
   "metadata": {
    "collapsed": true
   },
   "outputs": [],
   "source": [
    "def function(n):\n",
    "    result=0\n",
    "    for i in range(2,n+1):\n",
    "        \n",
    "        if(isSuShu(i)):\n",
    "            result=result+1\n",
    "        \n",
    "    return result"
   ]
  },
  {
   "cell_type": "code",
   "execution_count": 54,
   "metadata": {},
   "outputs": [
    {
     "name": "stdout",
     "output_type": "stream",
     "text": [
      "2 是质数\n",
      "3 是质数\n",
      "原来的数是 4 但能被 2 整除\n",
      "5 是质数\n",
      "原来的数是 6 但能被 2 整除\n",
      "7 是质数\n",
      "原来的数是 8 但能被 2 整除\n",
      "原来的数是 9 但能被 3 整除\n",
      "原来的数是 10 但能被 2 整除\n",
      "11 是质数\n",
      "原来的数是 12 但能被 2 整除\n",
      "13 是质数\n",
      "原来的数是 14 但能被 2 整除\n",
      "原来的数是 15 但能被 3 整除\n",
      "原来的数是 16 但能被 2 整除\n",
      "17 是质数\n",
      "原来的数是 18 但能被 2 整除\n",
      "19 是质数\n",
      "原来的数是 20 但能被 2 整除\n",
      "原来的数是 21 但能被 3 整除\n",
      "原来的数是 22 但能被 2 整除\n",
      "23 是质数\n",
      "原来的数是 24 但能被 2 整除\n",
      "原来的数是 25 但能被 5 整除\n",
      "原来的数是 26 但能被 2 整除\n",
      "原来的数是 27 但能被 3 整除\n",
      "原来的数是 28 但能被 2 整除\n",
      "29 是质数\n",
      "原来的数是 30 但能被 2 整除\n",
      "31 是质数\n",
      "原来的数是 32 但能被 2 整除\n",
      "原来的数是 33 但能被 3 整除\n",
      "原来的数是 34 但能被 2 整除\n",
      "原来的数是 35 但能被 5 整除\n",
      "原来的数是 36 但能被 2 整除\n",
      "37 是质数\n",
      "原来的数是 38 但能被 2 整除\n",
      "原来的数是 39 但能被 3 整除\n",
      "原来的数是 40 但能被 2 整除\n"
     ]
    }
   ],
   "source": [
    "lpp=function(n)"
   ]
  },
  {
   "cell_type": "code",
   "execution_count": 55,
   "metadata": {},
   "outputs": [
    {
     "data": {
      "text/plain": [
       "12"
      ]
     },
     "execution_count": 55,
     "metadata": {},
     "output_type": "execute_result"
    }
   ],
   "source": [
    "lpp"
   ]
  },
  {
   "cell_type": "code",
   "execution_count": null,
   "metadata": {
    "collapsed": true
   },
   "outputs": [],
   "source": []
  },
  {
   "cell_type": "code",
   "execution_count": null,
   "metadata": {
    "collapsed": true
   },
   "outputs": [],
   "source": []
  }
 ],
 "metadata": {
  "kernelspec": {
   "display_name": "Python 3",
   "language": "python",
   "name": "python3"
  },
  "language_info": {
   "codemirror_mode": {
    "name": "ipython",
    "version": 3
   },
   "file_extension": ".py",
   "mimetype": "text/x-python",
   "name": "python",
   "nbconvert_exporter": "python",
   "pygments_lexer": "ipython3",
   "version": "3.6.3"
  }
 },
 "nbformat": 4,
 "nbformat_minor": 2
}
