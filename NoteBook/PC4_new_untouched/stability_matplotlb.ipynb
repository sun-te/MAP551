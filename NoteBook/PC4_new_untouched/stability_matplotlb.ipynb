{
 "cells": [
  {
   "cell_type": "markdown",
   "metadata": {},
   "source": [
    "# Stability domains"
   ]
  },
  {
   "cell_type": "markdown",
   "metadata": {},
   "source": [
    "## Runge-Kutta methods"
   ]
  },
  {
   "cell_type": "code",
   "execution_count": null,
   "metadata": {},
   "outputs": [],
   "source": [
    "import numpy as np\n",
    "import matplotlib.pyplot as plt"
   ]
  },
  {
   "cell_type": "code",
   "execution_count": null,
   "metadata": {},
   "outputs": [],
   "source": [
    "x = np.linspace(-4, 2, 500)\n",
    "y = np.linspace(-3, 3, 500)\n",
    "\n",
    "z = x + 1j*y[:, np.newaxis]\n",
    "\n",
    "fig_rk, ((ax1, ax2), (ax3, ax4)) = plt.subplots(2, 2, figsize=(20, 20))\n",
    "\n",
    "# forward euler\n",
    "euler = z + 1\n",
    "output_euler = np.zeros_like(z, dtype = np.double)\n",
    "mask = np.abs(euler)<=1\n",
    "output_euler[mask] = np.abs(euler[mask])\n",
    "\n",
    "plt.subplot(2, 2, 1)\n",
    "plt.title('Runge Kutta (order 1), forward Euler', fontsize=16)\n",
    "ax1 = fig_rk.gca()\n",
    "ax1.axvline(x=0, color='k')\n",
    "ax1.axhline(y=0, color='k')\n",
    "ax1.contourf(x, y, output_euler, cmap='Blues')\n",
    "ax1.contour(x, y, output_euler, colors='k')\n",
    "\n",
    "# RK2\n",
    "rk2 = z + z**2/2 + 1\n",
    "output_rk2 = np.zeros_like(z, dtype = np.double)\n",
    "mask = np.abs(rk2)<=1\n",
    "output_rk2[mask] = np.abs(rk2[mask])\n",
    "\n",
    "plt.subplot(2, 2, 2)\n",
    "plt.title('Runge Kutta (order 2)', fontsize=16)\n",
    "ax2 = fig_rk.gca()\n",
    "ax2.axvline(x=0, color='k')\n",
    "ax2.axhline(y=0, color='k')\n",
    "ax2.contour(x, y, output_rk2, colors='k')\n",
    "ax2.contourf(x, y, output_rk2, cmap='Blues')\n",
    "\n",
    "# RK3\n",
    "rk3 = z + z**2/2 + z**3/6 + 1\n",
    "output_rk3 = np.zeros_like(z, dtype = np.double)\n",
    "mask = np.abs(rk3)<=1\n",
    "output_rk3[mask] = np.abs(rk3[mask])\n",
    "\n",
    "plt.subplot(2, 2, 3)\n",
    "plt.title('Runge Kutta (order 3)', fontsize=16)\n",
    "ax3 = fig_rk.gca()\n",
    "ax3.axvline(x=0, color='k')\n",
    "ax3.axhline(y=0, color='k')\n",
    "ax3.contourf(x, y, output_rk3, cmap='Blues')\n",
    "ax3.contour(x, y, output_rk3, colors='k')\n",
    "\n",
    "# RK4\n",
    "rk4 = z + z**2/2 + z**3/6 + z**4/24 + 1\n",
    "output_rk4 = np.zeros_like(z, dtype = np.double)\n",
    "mask = np.abs(rk4)<=1\n",
    "output_rk4[mask] = np.abs(rk4[mask])\n",
    "\n",
    "plt.subplot(2, 2, 4)\n",
    "plt.title('Runge Kutta (order 4)', fontsize=16)\n",
    "ax4 = fig_rk.gca()\n",
    "ax4.axvline(x=0, color='k')\n",
    "ax4.axhline(y=0, color='k')\n",
    "ax4.contourf(x, y, output_rk4, cmap='Blues')\n",
    "ax4.contour(x, y, output_rk4, colors='k')\n",
    "\n",
    "\n",
    "plt.show()"
   ]
  },
  {
   "cell_type": "markdown",
   "metadata": {},
   "source": [
    "## Dormand and Prince methods"
   ]
  },
  {
   "cell_type": "code",
   "execution_count": null,
   "metadata": {},
   "outputs": [],
   "source": [
    "x = np.linspace(-7, 2, 900)\n",
    "y = np.linspace(-7, 7, 1400)\n",
    "\n",
    "z = x + 1j*y[:, np.newaxis]\n",
    "\n",
    "fig_dopri, (axd1, axd2) = plt.subplots(1, 2, figsize=(20, 10))\n",
    "\n",
    "dopri5 = 1 + z + z**2/2 + z**3/6 + z**4/24 + z**5/120 + z**6/600\n",
    "output_dopri5 = np.zeros_like(z, dtype = np.double)\n",
    "mask = np.abs(dopri5)<=1\n",
    "output_dopri5[mask] = np.abs(dopri5[mask])\n",
    "\n",
    "plt.subplot(1, 2, 1)\n",
    "plt.title('Dormand and Price (order 5 and 6 stages)', fontsize=16)\n",
    "axd1 = fig_dopri.gca()\n",
    "axd1.axvline(x=0, color='k')\n",
    "axd1.axhline(y=0, color='k')\n",
    "axd1.contourf(x, y, output_dopri5, cmap='Blues')\n",
    "axd1.contour(x, y, output_dopri5, colors='k')\n",
    "\n",
    "dopri853 = 1 + z + z**2/2 + z**3/6 + z**4/24 + z**5/120 + z**6/720 + z**7/5040 + z**8/40320 \\\n",
    "         + 2.6916922001691e-6 * z**9  + 2.3413451082098e-7 * z**10 \\\n",
    "         + 1.4947364854592e-8 * z**11 + 3.6133245781282e-10 * z**12  \n",
    "output_dopri853 = np.zeros_like(z, dtype = np.double)\n",
    "mask = np.abs(dopri853)<=1\n",
    "output_dopri853[mask] = np.abs(dopri853[mask])\n",
    "\n",
    "plt.subplot(1, 2, 2)\n",
    "plt.title('Dormand and Price (order 8 and 12 stages)', fontsize=16)\n",
    "axd2 = fig_dopri.gca()\n",
    "axd2.axvline(x=0, color='k')\n",
    "axd2.axhline(y=0, color='k')\n",
    "axd2.contourf(x, y, output_dopri853, cmap='Blues')\n",
    "axd2.contour(x, y, output_dopri853, colors='k')\n",
    "\n",
    "plt.show()"
   ]
  }
 ],
 "metadata": {
  "kernelspec": {
   "display_name": "Python 3",
   "language": "python",
   "name": "python3"
  },
  "language_info": {
   "codemirror_mode": {
    "name": "ipython",
    "version": 3
   },
   "file_extension": ".py",
   "mimetype": "text/x-python",
   "name": "python",
   "nbconvert_exporter": "python",
   "pygments_lexer": "ipython3",
   "version": "3.6.4"
  }
 },
 "nbformat": 4,
 "nbformat_minor": 2
}
