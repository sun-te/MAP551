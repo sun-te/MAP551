{
 "cells": [
  {
   "cell_type": "markdown",
   "metadata": {},
   "source": [
    "# Stability domains"
   ]
  },
  {
   "cell_type": "code",
   "execution_count": null,
   "metadata": {},
   "outputs": [],
   "source": [
    "import numpy as np\n",
    "\n",
    "from bokeh.io import  output_notebook, push_notebook, show\n",
    "from bokeh.plotting import figure\n",
    "from bokeh.layouts import row, column\n",
    "from bokeh.palettes import Blues8 as palette\n",
    "\n",
    "output_notebook(hide_banner=True)"
   ]
  },
  {
   "cell_type": "markdown",
   "metadata": {},
   "source": [
    "## Runge-Kutta methods"
   ]
  },
  {
   "cell_type": "code",
   "execution_count": null,
   "metadata": {},
   "outputs": [],
   "source": [
    "x = np.linspace(-4, 2, 600)\n",
    "y = np.linspace(-3, 3, 600)\n",
    "\n",
    "z = x + 1j*y[:, np.newaxis]\n",
    "\n",
    "# euler \n",
    "euler = z + 1\n",
    "output_euler = np.zeros_like(z, dtype = np.double)\n",
    "mask = np.abs(euler)<=1\n",
    "output_euler[mask] = np.abs(euler[mask])\n",
    "\n",
    "fig_euler = figure(x_range=[-4, 2], y_range=[-3, 3], plot_width=450, plot_height=450, title=\"Runge Kutta (order 1), forward Euler\")\n",
    "fig_euler.segment(x0=[-4], y0=[0], x1=[2], y1=[0], color=\"black\")\n",
    "fig_euler.image(image=[output_euler], x=-4, y=-3, dw=6, dh=6, palette=palette[::-1])\n",
    "fig_euler.segment(x0=[-4, 0], y0=[0, -3], x1=[2, 0], y1=[0, 3], color=\"black\")\n",
    "\n",
    "# rk2\n",
    "rk2 = z + z**2/2 + 1\n",
    "output_rk2 = np.zeros_like(z, dtype = np.double)\n",
    "mask = np.abs(rk2)<=1\n",
    "output_rk2[mask] = np.abs(rk2[mask])\n",
    "\n",
    "fig_rk2 = figure(x_range=[-4, 2], y_range=[-3, 3], plot_width=450, plot_height=450, title=\"Runge Kutta (order 2)\")\n",
    "fig_rk2.image(image=[output_rk2], x=-4, y=-3, dw=6, dh=6, palette=palette[::-1])\n",
    "fig_rk2.segment(x0=[-4, 0], y0=[0, -4], x1=[2, 0], y1=[0, 4], color=\"black\")\n",
    "\n",
    "# rk3\n",
    "rk3 = z + z**2/2 + z**3/6 + 1\n",
    "output_rk3 = np.zeros_like(z, dtype = np.double)\n",
    "mask = np.abs(rk3)<=1\n",
    "output_rk3[mask] = np.abs(rk3[mask])\n",
    "\n",
    "fig_rk3 = figure(x_range=[-4, 2], y_range=[-3, 3], plot_width=450, plot_height=450, title=\"Runge Kutta (order 3)\")\n",
    "fig_rk3.image(image=[output_rk3], x=-4, y=-3, dw=6, dh=6, palette=palette[::-1])\n",
    "fig_rk3.segment(x0=[-4, 0], y0=[0, -3], x1=[2, 0], y1=[0, 3], color=\"black\")\n",
    "\n",
    "# rk4\n",
    "rk4 = z + z**2/2 + z**3/6 + z**4/24 + 1\n",
    "output_rk4 = np.zeros_like(z, dtype = np.double)\n",
    "mask = np.abs(rk4)<=1\n",
    "output_rk4[mask] = np.abs(rk4[mask])\n",
    "\n",
    "fig_rk4 = figure(x_range=[-4, 2], y_range=[-3, 3], plot_width=450, plot_height=450, title=\"Runge Kutta (order 4)\")\n",
    "fig_rk4.image(image=[output_rk4], x=-4, y=-3, dw=6, dh=6, palette=palette[::-1])\n",
    "fig_rk4.segment(x0=[-4, 0], y0=[0, -3], x1=[2, 0], y1=[0, 3], color=\"black\")\n",
    "\n",
    "show(column(row(fig_euler, fig_rk2), row(fig_rk3, fig_rk4)))"
   ]
  },
  {
   "cell_type": "markdown",
   "metadata": {},
   "source": [
    "## Dormand and Prince methods"
   ]
  },
  {
   "cell_type": "code",
   "execution_count": null,
   "metadata": {},
   "outputs": [],
   "source": [
    "x = np.linspace(-7, 2, 900)\n",
    "y = np.linspace(-7, 7, 1400)\n",
    "\n",
    "z = x + 1j*y[:, np.newaxis]\n",
    "\n",
    "# dopri5 \n",
    "dopri5 = 1 + z + z**2/2 + z**3/6 + z**4/24 + z**5/120 + z**6/600\n",
    "output_dopri5 = np.zeros_like(z, dtype = np.double)\n",
    "mask = np.abs(dopri5)<=1\n",
    "output_dopri5[mask] = np.abs(dopri5[mask])\n",
    "\n",
    "fig_dopri5 = figure(x_range=[-7, 2], y_range=[-7, 7], plot_width=450, plot_height=450, title=\"Dormand and Price (order 5 and 6 stages)\")\n",
    "fig_dopri5.image(image=[output_dopri5], x=-7, y=-7, dw=9, dh=14, palette=palette[::-1])\n",
    "fig_dopri5.segment(x0=[-7, 0], y0=[0, -7], x1=[2, 0], y1=[0, 7], color=\"black\")\n",
    "\n",
    "# dopri853\n",
    "dopri853 = 1 + z + z**2/2 + z**3/6 + z**4/24 + z**5/120 + z**6/720 + z**7/5040 + z**8/40320 \\\n",
    "         + 2.6916922001691e-6 * z**9  + 2.3413451082098e-7 * z**10 \\\n",
    "         + 1.4947364854592e-8 * z**11 + 3.6133245781282e-10 * z**12  \n",
    "output_dopri853 = np.zeros_like(z, dtype = np.double)\n",
    "mask = np.abs(dopri853)<=1\n",
    "output_dopri853[mask] = np.abs(dopri853[mask])\n",
    "\n",
    "fig_dopri853 = figure(x_range=[-7, 2], y_range=[-7, 7], plot_width=450, plot_height=450, title=\"Dormand and Price (order 8 and 12 stages)\")\n",
    "fig_dopri853.image(image=[output_dopri853], x=-7, y=-7, dw=9, dh=14, palette=palette[::-1])\n",
    "fig_dopri853.segment(x0=[-7, 0], y0=[0, -7], x1=[2, 0], y1=[0, 7], color=\"black\")\n",
    "\n",
    "show(row(fig_dopri5, fig_dopri853))"
   ]
  }
 ],
 "metadata": {
  "kernelspec": {
   "display_name": "Python 3",
   "language": "python",
   "name": "python3"
  },
  "language_info": {
   "codemirror_mode": {
    "name": "ipython",
    "version": 3
   },
   "file_extension": ".py",
   "mimetype": "text/x-python",
   "name": "python",
   "nbconvert_exporter": "python",
   "pygments_lexer": "ipython3",
   "version": "3.6.6"
  }
 },
 "nbformat": 4,
 "nbformat_minor": 2
}
