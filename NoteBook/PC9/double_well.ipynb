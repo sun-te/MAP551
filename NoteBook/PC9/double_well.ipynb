{
 "cells": [
  {
   "cell_type": "markdown",
   "metadata": {},
   "source": [
    "# Double well potential"
   ]
  },
  {
   "cell_type": "markdown",
   "metadata": {},
   "source": [
    "Consider a differential equation :\n",
    "\n",
    "$$\n",
    "\\ddot q = -\\nabla U(q) \\;\\; \\text{avec} \\;\\; U(q) = (q^2 - 1)^2\n",
    "$$\n",
    "\n",
    "which can be also be written :\n",
    "\n",
    "$$\n",
    "\\left\\{\\begin{aligned}\n",
    "\\dot q & = p\\\\\n",
    "\\dot p & = -\\nabla U(q) \n",
    "\\end{aligned}\\right.\n",
    "$$\n"
   ]
  },
  {
   "cell_type": "code",
   "execution_count": null,
   "metadata": {
    "scrolled": false
   },
   "outputs": [],
   "source": [
    "import mylib.integration as integration\n",
    "from mylib.model import double_well_potential_model\n",
    "\n",
    "import numpy as np\n",
    "\n",
    "from bokeh.io import output_notebook\n",
    "from bokeh.plotting import show, figure\n",
    "from bokeh.layouts import column\n",
    "\n",
    "output_notebook(hide_banner=True)"
   ]
  },
  {
   "cell_type": "markdown",
   "metadata": {},
   "source": [
    "### Fisrt order schemes"
   ]
  },
  {
   "cell_type": "code",
   "execution_count": null,
   "metadata": {
    "scrolled": false
   },
   "outputs": [],
   "source": [
    "def plot_first_order_sol():\n",
    "\n",
    "    qini = 0.0\n",
    "    pini = 0.01\n",
    "    yini = (qini, pini)\n",
    "\n",
    "    tini = 0.\n",
    "    tend = 15.\n",
    "    nt = 1001\n",
    "\n",
    "    dwpm = double_well_potential_model()\n",
    "    H_p = dwpm.H_p\n",
    "    H_q = dwpm.H_q\n",
    "    fcn = dwpm.fcn\n",
    "\n",
    "    fig = figure(plot_height=500, plot_width=950, title=\"Phase space (click on legend to hide corresponding graph)\")\n",
    "\n",
    "    # forward Euler integration\n",
    "    sol_fe = integration.forward_euler(tini, tend, nt, yini, fcn)\n",
    "    plt_fe = fig.x(sol_fe.y[0], sol_fe.y[1], legend=\"forward euler\")\n",
    "\n",
    "    # backward Euler integration\n",
    "    sol_be = integration.backward_euler(tini, tend, nt, yini, fcn)\n",
    "    plt_be = fig.x(sol_be.y[0], sol_be.y[1], color=\"goldenrod\", legend=\"backward Euler\")\n",
    "    \n",
    "    # symplectic euler integration\n",
    "    sol_se = integration.symplectic_euler(tini, tend, nt, yini, H_p, H_q)\n",
    "    plt_se = fig.x(sol_se.y[0], sol_se.y[1], color=\"crimson\", legend=\"symplectic Euler\")\n",
    "    \n",
    "    fig.legend.background_fill_alpha = 0.75\n",
    "    fig.legend.click_policy=\"hide\"\n",
    "    show(fig)\n",
    "    \n",
    "plot_first_order_sol()"
   ]
  },
  {
   "cell_type": "markdown",
   "metadata": {},
   "source": [
    "### Stormer-Verlet and compostion scheme optimized"
   ]
  },
  {
   "cell_type": "code",
   "execution_count": null,
   "metadata": {
    "scrolled": false
   },
   "outputs": [],
   "source": [
    "def plot_sol():\n",
    "\n",
    "    qini = 0.0\n",
    "    pini = 0.01\n",
    "    yini = (qini, pini)\n",
    "\n",
    "    tini = 0.\n",
    "    tend = 15.\n",
    "    nt = 1001\n",
    "\n",
    "    dwpm = double_well_potential_model()\n",
    "    H_p = dwpm.H_p\n",
    "    H_q = dwpm.H_q\n",
    "    fcn = dwpm.fcn\n",
    "\n",
    "    fig = figure(plot_height=500, plot_width=950, title=\"Phase space (click on legend to hide corresponding graph)\")\n",
    "\n",
    "    # forward Euler integration\n",
    "    sol_fe = integration.forward_euler(tini, tend, nt, yini, fcn)\n",
    "    plt_fe = fig.x(sol_fe.y[0], sol_fe.y[1], legend=\"forward euler\")\n",
    "\n",
    "    # backward Euler integration\n",
    "    sol_be = integration.backward_euler(tini, tend, nt, yini, fcn)\n",
    "    plt_be = fig.x(sol_be.y[0], sol_be.y[1], color=\"goldenrod\", legend=\"backward Euler\")\n",
    "    \n",
    "    # symplectic euler integration\n",
    "    sol_se = integration.symplectic_euler(tini, tend, nt, yini, H_p, H_q)\n",
    "    plt_se = fig.x(sol_se.y[0], sol_se.y[1], color=\"crimson\", legend=\"symplectic Euler\")\n",
    "    \n",
    "    #  Stormer-Verlet integration\n",
    "    sol_sv = integration.stormer_verlet(tini, tend, nt, yini, H_p, H_q)\n",
    "    plt_sv = fig.x(sol_sv.y[0], sol_sv.y[1], color=\"purple\", legend=\"Stormer-Verlet\")\n",
    "\n",
    "    # optimized order 8 step 15 integration\n",
    "    sol_o815 = integration.optimized_815(tini, tend, nt, yini, H_p, H_q)\n",
    "    plt_o815 = fig.x(sol_o815.y[0], sol_o815.y[1], color=\"green\", legend=\"optimized order 8 step 15\")\n",
    "\n",
    "    fig.legend.background_fill_alpha = 0.75\n",
    "    fig.legend.click_policy=\"hide\"\n",
    "    show(fig)\n",
    "    \n",
    "plot_sol()"
   ]
  },
  {
   "cell_type": "markdown",
   "metadata": {},
   "source": [
    "### Comparison between symplectic schemes"
   ]
  },
  {
   "cell_type": "code",
   "execution_count": null,
   "metadata": {
    "scrolled": false
   },
   "outputs": [],
   "source": [
    "def compare_symplectic():\n",
    "\n",
    "    qini = 0.0\n",
    "    pini = 0.01\n",
    "    yini = (qini, pini)\n",
    "\n",
    "    tini = 0.\n",
    "    tend = 100.\n",
    "    nt = 1001\n",
    "\n",
    "    dwpm = double_well_potential_model()\n",
    "    H_p = dwpm.H_p\n",
    "    H_q = dwpm.H_q\n",
    "    fcn = dwpm.fcn\n",
    "\n",
    "    fig = figure(plot_height=500, plot_width=950, title=\"Phase space, click on legend to hide corresponding graph\")\n",
    "\n",
    "    # symplectic euler integration\n",
    "    sol_se = integration.symplectic_euler(tini, tend, nt, yini, H_p, H_q)\n",
    "    plt_se = fig.x(sol_se.y[0], sol_se.y[1], color=\"crimson\", legend=\"symplectic Euler\")\n",
    "\n",
    "    #  Stormer-Verlet integration\n",
    "    sol_sv = integration.stormer_verlet(tini, tend, nt, yini, H_p, H_q)\n",
    "    plt_sv = fig.x(sol_sv.y[0], sol_sv.y[1], color=\"purple\", legend=\"Stormer-Verlet\")\n",
    "\n",
    "    # optimized order 8 step 15 integration\n",
    "    sol_o815 = integration.optimized_815(tini, tend, nt, yini, H_p, H_q)\n",
    "    plt_o815 = fig.x(sol_o815.y[0], sol_o815.y[1], color=\"green\", legend=\"optimized order 8 step 15\")\n",
    "    \n",
    "    fig.legend.background_fill_alpha = 0.75\n",
    "    fig.legend.click_policy=\"hide\"\n",
    "    show(fig)\n",
    "    \n",
    "compare_symplectic()"
   ]
  },
  {
   "cell_type": "code",
   "execution_count": null,
   "metadata": {
    "scrolled": false
   },
   "outputs": [],
   "source": [
    "def show_invariant():\n",
    "\n",
    "    qini = 0.0\n",
    "    pini = 0.01\n",
    "    yini = (qini, pini)\n",
    "\n",
    "    tini = 0.\n",
    "    tend = 400.\n",
    "    nt = 4001\n",
    "\n",
    "    dwpm = double_well_potential_model()\n",
    "    H_p = dwpm.H_p\n",
    "    H_q = dwpm.H_q\n",
    "    fcn = dwpm.fcn\n",
    "    hamiltonian = dwpm.hamiltonian\n",
    "\n",
    "    fig_ham = figure(x_range=(tini, tend), plot_height=500, plot_width=950, title=\"Hamiltonian\")\n",
    "    \n",
    "    ham_ini = hamiltonian(np.array(yini))\n",
    "\n",
    "    # symplectic euler integration\n",
    "    sol_se = integration.symplectic_euler(tini, tend, nt, yini, H_p, H_q)\n",
    "    ham_se = hamiltonian(sol_se.y)\n",
    "    plt_ham_se = fig_ham.x(sol_se.t, ham_ini - ham_se[0], color=\"crimson\", legend=\"symplectic Euler\")\n",
    "    \n",
    "    # Stormer-Verlet integration\n",
    "    sol_sv = integration.stormer_verlet(tini, tend, nt, yini, H_p, H_q)\n",
    "    ham_sv = hamiltonian(sol_sv.y)\n",
    "    plt_ham_sv = fig_ham.x(sol_sv.t, ham_ini - ham_sv[0], color=\"blue\", legend=\"Stormer-Verlet\")\n",
    "\n",
    "    # optimized order 8 step 15 integration\n",
    "    sol_o815 = integration.optimized_815(tini, tend, nt, yini, H_p, H_q)\n",
    "    ham_o815 = hamiltonian(sol_o815.y)\n",
    "    plt_ham_o815 = fig_ham.x(sol_o815.t, ham_ini - ham_o815[0], color=\"green\", legend=\"optimized order 8 step 15\")\n",
    "        \n",
    "    fig_ham.legend.background_fill_alpha = 0.75\n",
    "    fig_ham.legend.click_policy=\"hide\"\n",
    "    fig_ham.legend.location = \"top_left\"\n",
    "    show(fig_ham)\n",
    "    \n",
    "show_invariant()"
   ]
  },
  {
   "cell_type": "markdown",
   "metadata": {},
   "source": [
    "### Composition scheme optimized 8-15 vs Dopri853"
   ]
  },
  {
   "cell_type": "code",
   "execution_count": null,
   "metadata": {
    "scrolled": false
   },
   "outputs": [],
   "source": [
    "def show_eight_order_sol():\n",
    "\n",
    "    qini = 0.0\n",
    "    pini = 0.01\n",
    "    yini = (qini, pini)\n",
    "\n",
    "    tini = 0.\n",
    "    tend = 400.\n",
    "    nt = 4001\n",
    "\n",
    "    dwpm = double_well_potential_model()\n",
    "    H_p = dwpm.H_p\n",
    "    H_q = dwpm.H_q\n",
    "    fcn = dwpm.fcn\n",
    "    hamiltonian = dwpm.hamiltonian\n",
    "\n",
    "    fig_sol = figure(plot_height=500, plot_width=950, title=\"Phase space (click on legend to hide corresponding graph)\")\n",
    "    fig_ham = figure(x_range=(tini, tend), plot_height=500, plot_width=950, title=\"Hamiltonian\")\n",
    "    \n",
    "    ham_ini = hamiltonian(np.array(yini))\n",
    "\n",
    "    # optimized order 8 step 15 integration\n",
    "    sol_o815 = integration.optimized_815(tini, tend, nt, yini, H_p, H_q)\n",
    "    fig_sol.x(sol_o815.y[0], sol_o815.y[1], color=\"green\", legend=\"optimized order 8 step 15\")\n",
    "    ham_o815 = hamiltonian(sol_o815.y)\n",
    "    fig_ham.x(sol_o815.t, ham_ini - ham_o815[0], color=\"green\", legend=\"optimized order 8 step 15\")\n",
    "    \n",
    "    # dopri853\n",
    "    sol_dopri853 = integration.dopri853(tini, tend, nt, yini, fcn, tol=1.e-6)\n",
    "    fig_sol.x(sol_dopri853.y[0], sol_dopri853.y[1], color=\"crimson\", legend=\"dopri853\")\n",
    "    ham_dopri853 = hamiltonian(sol_dopri853.y)\n",
    "    fig_ham.x(sol_dopri853.t, ham_ini - ham_dopri853[0], color=\"crimson\", legend=\"dopri853\")\n",
    "\n",
    "    fig_sol.legend.background_fill_alpha = 0.75\n",
    "    fig_sol.legend.click_policy=\"hide\"\n",
    "\n",
    "    fig_ham.legend.background_fill_alpha = 0.75\n",
    "    fig_ham.legend.click_policy=\"hide\"\n",
    "    fig_ham.legend.location = \"top_left\"\n",
    "\n",
    "    show(column(fig_sol, fig_ham))\n",
    "    \n",
    "show_eight_order_sol()"
   ]
  }
 ],
 "metadata": {
  "kernelspec": {
   "display_name": "Python 3",
   "language": "python",
   "name": "python3"
  },
  "language_info": {
   "codemirror_mode": {
    "name": "ipython",
    "version": 3
   },
   "file_extension": ".py",
   "mimetype": "text/x-python",
   "name": "python",
   "nbconvert_exporter": "python",
   "pygments_lexer": "ipython3",
   "version": "3.7.1"
  }
 },
 "nbformat": 4,
 "nbformat_minor": 2
}
